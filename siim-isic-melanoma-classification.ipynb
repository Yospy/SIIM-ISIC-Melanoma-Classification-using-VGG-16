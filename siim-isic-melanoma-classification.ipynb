{
 "cells": [
  {
   "cell_type": "code",
   "execution_count": 1,
   "id": "d77cbf70",
   "metadata": {
    "_cell_guid": "b1076dfc-b9ad-4769-8c92-a6c4dae69d19",
    "_uuid": "8f2839f25d086af736a60e9eeb907d3b93b6e0e5",
    "execution": {
     "iopub.execute_input": "2022-08-10T08:28:52.792897Z",
     "iopub.status.busy": "2022-08-10T08:28:52.791676Z",
     "iopub.status.idle": "2022-08-10T08:28:57.358527Z",
     "shell.execute_reply": "2022-08-10T08:28:57.357185Z"
    },
    "papermill": {
     "duration": 4.577815,
     "end_time": "2022-08-10T08:28:57.361302",
     "exception": false,
     "start_time": "2022-08-10T08:28:52.783487",
     "status": "completed"
    },
    "tags": []
   },
   "outputs": [],
   "source": [
    "import pandas as pd\n",
    "from numpy import *\n",
    "import tensorflow as tf"
   ]
  },
  {
   "cell_type": "code",
   "execution_count": 2,
   "id": "056b672c",
   "metadata": {
    "execution": {
     "iopub.execute_input": "2022-08-10T08:28:57.374132Z",
     "iopub.status.busy": "2022-08-10T08:28:57.372936Z",
     "iopub.status.idle": "2022-08-10T08:28:57.472272Z",
     "shell.execute_reply": "2022-08-10T08:28:57.471113Z"
    },
    "papermill": {
     "duration": 0.107542,
     "end_time": "2022-08-10T08:28:57.474785",
     "exception": false,
     "start_time": "2022-08-10T08:28:57.367243",
     "status": "completed"
    },
    "tags": []
   },
   "outputs": [],
   "source": [
    "train_dir = '../input/siim-isic-melanoma-classification/jpeg/train/'\n",
    "test_dir = '../input/siim-isic-melanoma-classification/jpeg/test/'\n",
    "train = pd.read_csv('../input/siim-isic-melanoma-classification/train.csv')\n",
    "test = pd.read_csv('../input/siim-isic-melanoma-classification/test.csv')"
   ]
  },
  {
   "cell_type": "code",
   "execution_count": 3,
   "id": "12893b84",
   "metadata": {
    "execution": {
     "iopub.execute_input": "2022-08-10T08:28:57.486342Z",
     "iopub.status.busy": "2022-08-10T08:28:57.485644Z",
     "iopub.status.idle": "2022-08-10T08:28:57.507207Z",
     "shell.execute_reply": "2022-08-10T08:28:57.506105Z"
    },
    "papermill": {
     "duration": 0.030097,
     "end_time": "2022-08-10T08:28:57.509844",
     "exception": false,
     "start_time": "2022-08-10T08:28:57.479747",
     "status": "completed"
    },
    "tags": []
   },
   "outputs": [
    {
     "data": {
      "text/html": [
       "<div>\n",
       "<style scoped>\n",
       "    .dataframe tbody tr th:only-of-type {\n",
       "        vertical-align: middle;\n",
       "    }\n",
       "\n",
       "    .dataframe tbody tr th {\n",
       "        vertical-align: top;\n",
       "    }\n",
       "\n",
       "    .dataframe thead th {\n",
       "        text-align: right;\n",
       "    }\n",
       "</style>\n",
       "<table border=\"1\" class=\"dataframe\">\n",
       "  <thead>\n",
       "    <tr style=\"text-align: right;\">\n",
       "      <th></th>\n",
       "      <th>image_name</th>\n",
       "      <th>patient_id</th>\n",
       "      <th>sex</th>\n",
       "      <th>age_approx</th>\n",
       "      <th>anatom_site_general_challenge</th>\n",
       "      <th>diagnosis</th>\n",
       "      <th>benign_malignant</th>\n",
       "      <th>target</th>\n",
       "    </tr>\n",
       "  </thead>\n",
       "  <tbody>\n",
       "    <tr>\n",
       "      <th>0</th>\n",
       "      <td>ISIC_2637011</td>\n",
       "      <td>IP_7279968</td>\n",
       "      <td>male</td>\n",
       "      <td>45.0</td>\n",
       "      <td>head/neck</td>\n",
       "      <td>unknown</td>\n",
       "      <td>benign</td>\n",
       "      <td>0</td>\n",
       "    </tr>\n",
       "    <tr>\n",
       "      <th>1</th>\n",
       "      <td>ISIC_0015719</td>\n",
       "      <td>IP_3075186</td>\n",
       "      <td>female</td>\n",
       "      <td>45.0</td>\n",
       "      <td>upper extremity</td>\n",
       "      <td>unknown</td>\n",
       "      <td>benign</td>\n",
       "      <td>0</td>\n",
       "    </tr>\n",
       "    <tr>\n",
       "      <th>2</th>\n",
       "      <td>ISIC_0052212</td>\n",
       "      <td>IP_2842074</td>\n",
       "      <td>female</td>\n",
       "      <td>50.0</td>\n",
       "      <td>lower extremity</td>\n",
       "      <td>nevus</td>\n",
       "      <td>benign</td>\n",
       "      <td>0</td>\n",
       "    </tr>\n",
       "    <tr>\n",
       "      <th>3</th>\n",
       "      <td>ISIC_0068279</td>\n",
       "      <td>IP_6890425</td>\n",
       "      <td>female</td>\n",
       "      <td>45.0</td>\n",
       "      <td>head/neck</td>\n",
       "      <td>unknown</td>\n",
       "      <td>benign</td>\n",
       "      <td>0</td>\n",
       "    </tr>\n",
       "    <tr>\n",
       "      <th>4</th>\n",
       "      <td>ISIC_0074268</td>\n",
       "      <td>IP_8723313</td>\n",
       "      <td>female</td>\n",
       "      <td>55.0</td>\n",
       "      <td>upper extremity</td>\n",
       "      <td>unknown</td>\n",
       "      <td>benign</td>\n",
       "      <td>0</td>\n",
       "    </tr>\n",
       "  </tbody>\n",
       "</table>\n",
       "</div>"
      ],
      "text/plain": [
       "     image_name  patient_id     sex  age_approx anatom_site_general_challenge  \\\n",
       "0  ISIC_2637011  IP_7279968    male        45.0                     head/neck   \n",
       "1  ISIC_0015719  IP_3075186  female        45.0               upper extremity   \n",
       "2  ISIC_0052212  IP_2842074  female        50.0               lower extremity   \n",
       "3  ISIC_0068279  IP_6890425  female        45.0                     head/neck   \n",
       "4  ISIC_0074268  IP_8723313  female        55.0               upper extremity   \n",
       "\n",
       "  diagnosis benign_malignant  target  \n",
       "0   unknown           benign       0  \n",
       "1   unknown           benign       0  \n",
       "2     nevus           benign       0  \n",
       "3   unknown           benign       0  \n",
       "4   unknown           benign       0  "
      ]
     },
     "execution_count": 3,
     "metadata": {},
     "output_type": "execute_result"
    }
   ],
   "source": [
    "train.head()"
   ]
  },
  {
   "cell_type": "code",
   "execution_count": 4,
   "id": "0f47cd38",
   "metadata": {
    "execution": {
     "iopub.execute_input": "2022-08-10T08:28:57.522693Z",
     "iopub.status.busy": "2022-08-10T08:28:57.521682Z",
     "iopub.status.idle": "2022-08-10T08:28:57.536700Z",
     "shell.execute_reply": "2022-08-10T08:28:57.535655Z"
    },
    "papermill": {
     "duration": 0.023868,
     "end_time": "2022-08-10T08:28:57.539050",
     "exception": false,
     "start_time": "2022-08-10T08:28:57.515182",
     "status": "completed"
    },
    "tags": []
   },
   "outputs": [
    {
     "data": {
      "text/plain": [
       "array(['unknown', 'nevus', 'melanoma', 'seborrheic keratosis',\n",
       "       'lentigo NOS', 'lichenoid keratosis', 'solar lentigo',\n",
       "       'cafe-au-lait macule', 'atypical melanocytic proliferation'],\n",
       "      dtype=object)"
      ]
     },
     "execution_count": 4,
     "metadata": {},
     "output_type": "execute_result"
    }
   ],
   "source": [
    "train.diagnosis.unique()"
   ]
  },
  {
   "cell_type": "code",
   "execution_count": 5,
   "id": "e8f5c389",
   "metadata": {
    "execution": {
     "iopub.execute_input": "2022-08-10T08:28:57.550733Z",
     "iopub.status.busy": "2022-08-10T08:28:57.550051Z",
     "iopub.status.idle": "2022-08-10T08:28:57.565309Z",
     "shell.execute_reply": "2022-08-10T08:28:57.564321Z"
    },
    "papermill": {
     "duration": 0.023553,
     "end_time": "2022-08-10T08:28:57.567516",
     "exception": false,
     "start_time": "2022-08-10T08:28:57.543963",
     "status": "completed"
    },
    "tags": []
   },
   "outputs": [
    {
     "data": {
      "text/plain": [
       "nevus                                 5193\n",
       "melanoma                               584\n",
       "seborrheic keratosis                   135\n",
       "lentigo NOS                             44\n",
       "lichenoid keratosis                     37\n",
       "solar lentigo                            7\n",
       "cafe-au-lait macule                      1\n",
       "atypical melanocytic proliferation       1\n",
       "Name: diagnosis, dtype: int64"
      ]
     },
     "execution_count": 5,
     "metadata": {},
     "output_type": "execute_result"
    }
   ],
   "source": [
    "train = train[train['diagnosis'] != 'unknown']\n",
    "train.diagnosis.value_counts()"
   ]
  },
  {
   "cell_type": "code",
   "execution_count": 6,
   "id": "dc6c7497",
   "metadata": {
    "execution": {
     "iopub.execute_input": "2022-08-10T08:28:57.579683Z",
     "iopub.status.busy": "2022-08-10T08:28:57.578772Z",
     "iopub.status.idle": "2022-08-10T08:28:57.589152Z",
     "shell.execute_reply": "2022-08-10T08:28:57.588124Z"
    },
    "papermill": {
     "duration": 0.018457,
     "end_time": "2022-08-10T08:28:57.591223",
     "exception": false,
     "start_time": "2022-08-10T08:28:57.572766",
     "status": "completed"
    },
    "tags": []
   },
   "outputs": [
    {
     "data": {
      "text/plain": [
       "nevus                   5193\n",
       "melanoma                 584\n",
       "seborrheic keratosis     135\n",
       "lentigo NOS               44\n",
       "lichenoid keratosis       37\n",
       "solar lentigo              7\n",
       "cafe-au-lait macule        1\n",
       "Name: diagnosis, dtype: int64"
      ]
     },
     "execution_count": 6,
     "metadata": {},
     "output_type": "execute_result"
    }
   ],
   "source": [
    "train = train[train['diagnosis'] != 'atypical melanocytic proliferation']\n",
    "train.diagnosis.value_counts()"
   ]
  },
  {
   "cell_type": "code",
   "execution_count": 7,
   "id": "642b99ec",
   "metadata": {
    "execution": {
     "iopub.execute_input": "2022-08-10T08:28:57.602962Z",
     "iopub.status.busy": "2022-08-10T08:28:57.602664Z",
     "iopub.status.idle": "2022-08-10T08:28:57.612771Z",
     "shell.execute_reply": "2022-08-10T08:28:57.611714Z"
    },
    "papermill": {
     "duration": 0.018566,
     "end_time": "2022-08-10T08:28:57.615098",
     "exception": false,
     "start_time": "2022-08-10T08:28:57.596532",
     "status": "completed"
    },
    "tags": []
   },
   "outputs": [
    {
     "data": {
      "text/plain": [
       "nevus                   5193\n",
       "melanoma                 584\n",
       "seborrheic keratosis     135\n",
       "lentigo NOS               44\n",
       "lichenoid keratosis       37\n",
       "solar lentigo              7\n",
       "Name: diagnosis, dtype: int64"
      ]
     },
     "execution_count": 7,
     "metadata": {},
     "output_type": "execute_result"
    }
   ],
   "source": [
    "train = train[train['diagnosis'] != 'cafe-au-lait macule']\n",
    "train.diagnosis.value_counts()"
   ]
  },
  {
   "cell_type": "markdown",
   "id": "70826cc4",
   "metadata": {
    "papermill": {
     "duration": 0.004899,
     "end_time": "2022-08-10T08:28:57.625214",
     "exception": false,
     "start_time": "2022-08-10T08:28:57.620315",
     "status": "completed"
    },
    "tags": []
   },
   "source": [
    "**Preprocess Image**"
   ]
  },
  {
   "cell_type": "code",
   "execution_count": 8,
   "id": "4635438a",
   "metadata": {
    "execution": {
     "iopub.execute_input": "2022-08-10T08:28:57.637056Z",
     "iopub.status.busy": "2022-08-10T08:28:57.636750Z",
     "iopub.status.idle": "2022-08-10T08:28:57.858134Z",
     "shell.execute_reply": "2022-08-10T08:28:57.857078Z"
    },
    "papermill": {
     "duration": 0.230349,
     "end_time": "2022-08-10T08:28:57.860902",
     "exception": false,
     "start_time": "2022-08-10T08:28:57.630553",
     "status": "completed"
    },
    "tags": []
   },
   "outputs": [],
   "source": [
    "labels = []\n",
    "data = []\n",
    "for i in range(train.shape[0]):\n",
    "    data.append(train_dir + train['image_name'].iloc[i]+'.jpg')\n",
    "    labels.append(train['diagnosis'].iloc[i])\n",
    "df = pd.DataFrame(data)\n",
    "df.columns = ['images']\n",
    "df['diagnosis'] = labels\n",
    "\n",
    "test_data=[]\n",
    "for i in range(test.shape[0]):\n",
    "    test_data.append(test_dir + test['image_name'].iloc[i]+'.jpg')\n",
    "df_test=pd.DataFrame(test_data)\n",
    "df_test.columns=['images']"
   ]
  },
  {
   "cell_type": "code",
   "execution_count": 9,
   "id": "dd041a41",
   "metadata": {
    "execution": {
     "iopub.execute_input": "2022-08-10T08:28:57.874676Z",
     "iopub.status.busy": "2022-08-10T08:28:57.873637Z",
     "iopub.status.idle": "2022-08-10T08:28:57.886118Z",
     "shell.execute_reply": "2022-08-10T08:28:57.885114Z"
    },
    "papermill": {
     "duration": 0.021925,
     "end_time": "2022-08-10T08:28:57.888508",
     "exception": false,
     "start_time": "2022-08-10T08:28:57.866583",
     "status": "completed"
    },
    "tags": []
   },
   "outputs": [
    {
     "data": {
      "text/plain": [
       "diagnosis\n",
       "lentigo NOS               44\n",
       "lichenoid keratosis       37\n",
       "melanoma                 584\n",
       "nevus                   5193\n",
       "seborrheic keratosis     135\n",
       "solar lentigo              7\n",
       "Name: images, dtype: int64"
      ]
     },
     "execution_count": 9,
     "metadata": {},
     "output_type": "execute_result"
    }
   ],
   "source": [
    "df.groupby('diagnosis')['images'].count()"
   ]
  },
  {
   "cell_type": "code",
   "execution_count": 10,
   "id": "3d3514a2",
   "metadata": {
    "execution": {
     "iopub.execute_input": "2022-08-10T08:28:57.900899Z",
     "iopub.status.busy": "2022-08-10T08:28:57.900584Z",
     "iopub.status.idle": "2022-08-10T08:28:58.540515Z",
     "shell.execute_reply": "2022-08-10T08:28:58.539515Z"
    },
    "papermill": {
     "duration": 0.649098,
     "end_time": "2022-08-10T08:28:58.542894",
     "exception": false,
     "start_time": "2022-08-10T08:28:57.893796",
     "status": "completed"
    },
    "tags": []
   },
   "outputs": [],
   "source": [
    "from sklearn.model_selection import train_test_split\n",
    "X_train, X_test, y_train, y_test = train_test_split(df['images'], df['diagnosis'],test_size=0.2, \n",
    "                                                    random_state=20)"
   ]
  },
  {
   "cell_type": "code",
   "execution_count": 11,
   "id": "f55f4400",
   "metadata": {
    "execution": {
     "iopub.execute_input": "2022-08-10T08:28:58.556269Z",
     "iopub.status.busy": "2022-08-10T08:28:58.554733Z",
     "iopub.status.idle": "2022-08-10T08:28:58.562408Z",
     "shell.execute_reply": "2022-08-10T08:28:58.561520Z"
    },
    "papermill": {
     "duration": 0.016075,
     "end_time": "2022-08-10T08:28:58.564544",
     "exception": false,
     "start_time": "2022-08-10T08:28:58.548469",
     "status": "completed"
    },
    "tags": []
   },
   "outputs": [],
   "source": [
    "train_data = pd.DataFrame(X_train)\n",
    "train_data.columns = ['images']\n",
    "train_data['daignosis'] = y_train"
   ]
  },
  {
   "cell_type": "code",
   "execution_count": 12,
   "id": "d439d49f",
   "metadata": {
    "execution": {
     "iopub.execute_input": "2022-08-10T08:28:58.576706Z",
     "iopub.status.busy": "2022-08-10T08:28:58.575752Z",
     "iopub.status.idle": "2022-08-10T08:28:58.582142Z",
     "shell.execute_reply": "2022-08-10T08:28:58.581286Z"
    },
    "papermill": {
     "duration": 0.014596,
     "end_time": "2022-08-10T08:28:58.584323",
     "exception": false,
     "start_time": "2022-08-10T08:28:58.569727",
     "status": "completed"
    },
    "tags": []
   },
   "outputs": [],
   "source": [
    "test_data = pd.DataFrame(X_test)\n",
    "test_data.columns = ['images']\n",
    "test_data['daignosis'] = y_test"
   ]
  },
  {
   "cell_type": "code",
   "execution_count": 13,
   "id": "86c6e938",
   "metadata": {
    "execution": {
     "iopub.execute_input": "2022-08-10T08:28:58.596333Z",
     "iopub.status.busy": "2022-08-10T08:28:58.596052Z",
     "iopub.status.idle": "2022-08-10T08:28:59.674501Z",
     "shell.execute_reply": "2022-08-10T08:28:59.673589Z"
    },
    "papermill": {
     "duration": 1.087732,
     "end_time": "2022-08-10T08:28:59.677319",
     "exception": false,
     "start_time": "2022-08-10T08:28:58.589587",
     "status": "completed"
    },
    "tags": []
   },
   "outputs": [],
   "source": [
    "from tensorflow.keras.preprocessing.image import ImageDataGenerator\n",
    "\n",
    "train_datage = ImageDataGenerator(rescale=1./255,\n",
    "                                 rotation_range=20,\n",
    "                                 width_shift_range=0.3,\n",
    "                                 height_shift_range=0.3,\n",
    "                                 shear_range=0.2,\n",
    "                                 zoom_range=0.3,\n",
    "                                 horizontal_flip=True)\n",
    "\n",
    "val_datagen = ImageDataGenerator(rescale=1./255)"
   ]
  },
  {
   "cell_type": "code",
   "execution_count": 14,
   "id": "77526a36",
   "metadata": {
    "execution": {
     "iopub.execute_input": "2022-08-10T08:28:59.689509Z",
     "iopub.status.busy": "2022-08-10T08:28:59.689178Z",
     "iopub.status.idle": "2022-08-10T08:29:17.976052Z",
     "shell.execute_reply": "2022-08-10T08:29:17.974904Z"
    },
    "papermill": {
     "duration": 18.296093,
     "end_time": "2022-08-10T08:29:17.978839",
     "exception": false,
     "start_time": "2022-08-10T08:28:59.682746",
     "status": "completed"
    },
    "tags": []
   },
   "outputs": [
    {
     "name": "stdout",
     "output_type": "stream",
     "text": [
      "Found 4800 validated image filenames belonging to 6 classes.\n",
      "Found 1200 validated image filenames belonging to 6 classes.\n"
     ]
    }
   ],
   "source": [
    "train_generator = train_datage.flow_from_dataframe(train_data, x_col='images', y_col='daignosis',\n",
    "                                                  target_size=(224,224),\n",
    "                                                  batch_size = 256,\n",
    "                                                  shuffle = True,\n",
    "                                                  class_mode='categorical')\n",
    "val_generator = val_datagen.flow_from_dataframe(test_data, x_col='images', y_col='daignosis',\n",
    "                                               target_size=(224,224),\n",
    "                                               batch_size=256,\n",
    "                                               shuffle=False,\n",
    "                                               class_mode = 'categorical')"
   ]
  },
  {
   "cell_type": "code",
   "execution_count": 15,
   "id": "29645856",
   "metadata": {
    "execution": {
     "iopub.execute_input": "2022-08-10T08:29:17.993665Z",
     "iopub.status.busy": "2022-08-10T08:29:17.992247Z",
     "iopub.status.idle": "2022-08-10T08:29:21.482286Z",
     "shell.execute_reply": "2022-08-10T08:29:21.480130Z"
    },
    "papermill": {
     "duration": 3.499892,
     "end_time": "2022-08-10T08:29:21.485125",
     "exception": false,
     "start_time": "2022-08-10T08:29:17.985233",
     "status": "completed"
    },
    "tags": []
   },
   "outputs": [
    {
     "name": "stderr",
     "output_type": "stream",
     "text": [
      "2022-08-10 08:29:18.104525: I tensorflow/stream_executor/cuda/cuda_gpu_executor.cc:937] successful NUMA node read from SysFS had negative value (-1), but there must be at least one NUMA node, so returning NUMA node zero\n",
      "2022-08-10 08:29:18.245515: I tensorflow/stream_executor/cuda/cuda_gpu_executor.cc:937] successful NUMA node read from SysFS had negative value (-1), but there must be at least one NUMA node, so returning NUMA node zero\n",
      "2022-08-10 08:29:18.246369: I tensorflow/stream_executor/cuda/cuda_gpu_executor.cc:937] successful NUMA node read from SysFS had negative value (-1), but there must be at least one NUMA node, so returning NUMA node zero\n",
      "2022-08-10 08:29:18.247842: I tensorflow/core/platform/cpu_feature_guard.cc:142] This TensorFlow binary is optimized with oneAPI Deep Neural Network Library (oneDNN) to use the following CPU instructions in performance-critical operations:  AVX2 AVX512F FMA\n",
      "To enable them in other operations, rebuild TensorFlow with the appropriate compiler flags.\n",
      "2022-08-10 08:29:18.248205: I tensorflow/stream_executor/cuda/cuda_gpu_executor.cc:937] successful NUMA node read from SysFS had negative value (-1), but there must be at least one NUMA node, so returning NUMA "
     ]
    },
    {
     "name": "stdout",
     "output_type": "stream",
     "text": [
      "Downloading data from https://storage.googleapis.com/tensorflow/keras-applications/vgg16/vgg16_weights_tf_dim_ordering_tf_kernels_notop.h5\n",
      "   16384/58889256 [..............................] - ETA: 0s"
     ]
    },
    {
     "name": "stderr",
     "output_type": "stream",
     "text": [
      "node zero\n",
      "2022-08-10 08:29:18.248987: I tensorflow/stream_executor/cuda/cuda_gpu_executor.cc:937] successful NUMA node read from SysFS had negative value (-1), but there must be at least one NUMA node, so returning NUMA node zero\n",
      "2022-08-10 08:29:18.249690: I tensorflow/stream_executor/cuda/cuda_gpu_executor.cc:937] successful NUMA node read from SysFS had negative value (-1), but there must be at least one NUMA node, so returning NUMA node zero\n",
      "2022-08-10 08:29:20.530890: I tensorflow/stream_executor/cuda/cuda_gpu_executor.cc:937] successful NUMA node read from SysFS had negative value (-1), but there must be at least one NUMA node, so returning NUMA node zero\n",
      "2022-08-10 08:29:20.531814: I tensorflow/stream_executor/cuda/cuda_gpu_executor.cc:937] successful NUMA node read from SysFS had negative value (-1), but there must be at least one NUMA node, so returning NUMA node zero\n",
      "2022-08-10 08:29:20.532508: I tensorflow/stream_executor/cuda/cuda_gpu_executor.cc:937] successful NUMA node read from SysFS had negative value (-1), but there must be at least one NUMA node, so returning NUMA node zero\n",
      "2022-08-10 08:29:20.533115: I tensorflow/core/common_runtime/gpu/gpu_device.cc:1510] Created device /job:localhost/replica:0/task:0/device:GPU:0 with 15403 MB memory:  -> device: 0, name: Tesla P100-PCIE-16GB, pci bus id: 0000:00:04.0, compute capability: 6.0\n"
     ]
    },
    {
     "name": "stdout",
     "output_type": "stream",
     "text": [
      "58892288/58889256 [==============================] - 0s 0us/step\n",
      "58900480/58889256 [==============================] - 0s 0us/step\n",
      "Model: \"vgg16\"\n",
      "_________________________________________________________________\n",
      "Layer (type)                 Output Shape              Param #   \n",
      "=================================================================\n",
      "input_1 (InputLayer)         [(None, 224, 224, 3)]     0         \n",
      "_________________________________________________________________\n",
      "block1_conv1 (Conv2D)        (None, 224, 224, 64)      1792      \n",
      "_________________________________________________________________\n",
      "block1_conv2 (Conv2D)        (None, 224, 224, 64)      36928     \n",
      "_________________________________________________________________\n",
      "block1_pool (MaxPooling2D)   (None, 112, 112, 64)      0         \n",
      "_________________________________________________________________\n",
      "block2_conv1 (Conv2D)        (None, 112, 112, 128)     73856     \n",
      "_________________________________________________________________\n",
      "block2_conv2 (Conv2D)        (None, 112, 112, 128)     147584    \n",
      "_________________________________________________________________\n",
      "block2_pool (MaxPooling2D)   (None, 56, 56, 128)       0         \n",
      "_________________________________________________________________\n",
      "block3_conv1 (Conv2D)        (None, 56, 56, 256)       295168    \n",
      "_________________________________________________________________\n",
      "block3_conv2 (Conv2D)        (None, 56, 56, 256)       590080    \n",
      "_________________________________________________________________\n",
      "block3_conv3 (Conv2D)        (None, 56, 56, 256)       590080    \n",
      "_________________________________________________________________\n",
      "block3_pool (MaxPooling2D)   (None, 28, 28, 256)       0         \n",
      "_________________________________________________________________\n",
      "block4_conv1 (Conv2D)        (None, 28, 28, 512)       1180160   \n",
      "_________________________________________________________________\n",
      "block4_conv2 (Conv2D)        (None, 28, 28, 512)       2359808   \n",
      "_________________________________________________________________\n",
      "block4_conv3 (Conv2D)        (None, 28, 28, 512)       2359808   \n",
      "_________________________________________________________________\n",
      "block4_pool (MaxPooling2D)   (None, 14, 14, 512)       0         \n",
      "_________________________________________________________________\n",
      "block5_conv1 (Conv2D)        (None, 14, 14, 512)       2359808   \n",
      "_________________________________________________________________\n",
      "block5_conv2 (Conv2D)        (None, 14, 14, 512)       2359808   \n",
      "_________________________________________________________________\n",
      "block5_conv3 (Conv2D)        (None, 14, 14, 512)       2359808   \n",
      "_________________________________________________________________\n",
      "block5_pool (MaxPooling2D)   (None, 7, 7, 512)         0         \n",
      "=================================================================\n",
      "Total params: 14,714,688\n",
      "Trainable params: 0\n",
      "Non-trainable params: 14,714,688\n",
      "_________________________________________________________________\n"
     ]
    }
   ],
   "source": [
    "from tensorflow.keras.applications.vgg16 import VGG16\n",
    "base_model = VGG16(include_top=False, weights='imagenet',input_shape=[224,224,3])\n",
    "base_model.trainable = False\n",
    "base_model.summary()"
   ]
  },
  {
   "cell_type": "code",
   "execution_count": 16,
   "id": "df4e1283",
   "metadata": {
    "execution": {
     "iopub.execute_input": "2022-08-10T08:29:21.499870Z",
     "iopub.status.busy": "2022-08-10T08:29:21.499552Z",
     "iopub.status.idle": "2022-08-10T08:29:21.571392Z",
     "shell.execute_reply": "2022-08-10T08:29:21.570448Z"
    },
    "papermill": {
     "duration": 0.081326,
     "end_time": "2022-08-10T08:29:21.573902",
     "exception": false,
     "start_time": "2022-08-10T08:29:21.492576",
     "status": "completed"
    },
    "tags": []
   },
   "outputs": [],
   "source": [
    "model = tf.keras.models.Sequential([\n",
    "    base_model,\n",
    "    tf.keras.layers.Flatten(),\n",
    "    tf.keras.layers.Dense(50, activation='relu'),\n",
    "    tf.keras.layers.Dense(6,activation='sigmoid')\n",
    "])"
   ]
  },
  {
   "cell_type": "code",
   "execution_count": 17,
   "id": "063772e1",
   "metadata": {
    "execution": {
     "iopub.execute_input": "2022-08-10T08:29:21.588235Z",
     "iopub.status.busy": "2022-08-10T08:29:21.587432Z",
     "iopub.status.idle": "2022-08-10T08:29:21.595753Z",
     "shell.execute_reply": "2022-08-10T08:29:21.594508Z"
    },
    "papermill": {
     "duration": 0.01757,
     "end_time": "2022-08-10T08:29:21.597762",
     "exception": false,
     "start_time": "2022-08-10T08:29:21.580192",
     "status": "completed"
    },
    "tags": []
   },
   "outputs": [
    {
     "name": "stdout",
     "output_type": "stream",
     "text": [
      "Model: \"sequential\"\n",
      "_________________________________________________________________\n",
      "Layer (type)                 Output Shape              Param #   \n",
      "=================================================================\n",
      "vgg16 (Functional)           (None, 7, 7, 512)         14714688  \n",
      "_________________________________________________________________\n",
      "flatten (Flatten)            (None, 25088)             0         \n",
      "_________________________________________________________________\n",
      "dense (Dense)                (None, 50)                1254450   \n",
      "_________________________________________________________________\n",
      "dense_1 (Dense)              (None, 6)                 306       \n",
      "=================================================================\n",
      "Total params: 15,969,444\n",
      "Trainable params: 1,254,756\n",
      "Non-trainable params: 14,714,688\n",
      "_________________________________________________________________\n"
     ]
    }
   ],
   "source": [
    "model.summary()"
   ]
  },
  {
   "cell_type": "code",
   "execution_count": 18,
   "id": "3b58e707",
   "metadata": {
    "execution": {
     "iopub.execute_input": "2022-08-10T08:29:21.611794Z",
     "iopub.status.busy": "2022-08-10T08:29:21.611009Z",
     "iopub.status.idle": "2022-08-10T09:01:47.080627Z",
     "shell.execute_reply": "2022-08-10T09:01:47.079658Z"
    },
    "papermill": {
     "duration": 1945.484569,
     "end_time": "2022-08-10T09:01:47.088413",
     "exception": false,
     "start_time": "2022-08-10T08:29:21.603844",
     "status": "completed"
    },
    "tags": []
   },
   "outputs": [
    {
     "name": "stderr",
     "output_type": "stream",
     "text": [
      "2022-08-10 08:29:40.623908: I tensorflow/compiler/mlir/mlir_graph_optimization_pass.cc:185] None of the MLIR Optimization Passes are enabled (registered 2)\n"
     ]
    },
    {
     "name": "stdout",
     "output_type": "stream",
     "text": [
      "Epoch 1/5\n"
     ]
    },
    {
     "name": "stderr",
     "output_type": "stream",
     "text": [
      "2022-08-10 08:30:00.909154: I tensorflow/stream_executor/cuda/cuda_dnn.cc:369] Loaded cuDNN version 8005\n"
     ]
    },
    {
     "name": "stdout",
     "output_type": "stream",
     "text": [
      "19/19 [==============================] - 468s 24s/step - loss: 0.8878 - acc: 0.8129 - val_loss: 0.6004 - val_acc: 0.8775\n",
      "Epoch 2/5\n",
      "19/19 [==============================] - 358s 19s/step - loss: 0.5558 - acc: 0.8717 - val_loss: 0.4262 - val_acc: 0.8808\n",
      "Epoch 3/5\n",
      "19/19 [==============================] - 362s 19s/step - loss: 0.4054 - acc: 0.8708 - val_loss: 0.3775 - val_acc: 0.8800\n",
      "Epoch 4/5\n",
      "19/19 [==============================] - 357s 19s/step - loss: 0.3905 - acc: 0.8750 - val_loss: 0.3626 - val_acc: 0.8800\n",
      "Epoch 5/5\n",
      "19/19 [==============================] - 361s 19s/step - loss: 0.3675 - acc: 0.8775 - val_loss: 0.3891 - val_acc: 0.8725\n"
     ]
    },
    {
     "data": {
      "text/plain": [
       "<keras.callbacks.History at 0x7f9e24bff490>"
      ]
     },
     "execution_count": 18,
     "metadata": {},
     "output_type": "execute_result"
    }
   ],
   "source": [
    "from tensorflow.keras.callbacks import EarlyStopping\n",
    "\n",
    "model.compile(optimizer='adam', loss='categorical_crossentropy', metrics=['acc'])\n",
    "\n",
    "es = EarlyStopping(monitor='val_accuracy', mode='max', patience=5, restore_best_weights=True)\n",
    "\n",
    "model.fit(train_generator, epochs=5, validation_data=val_generator, callbacks=[es])"
   ]
  },
  {
   "cell_type": "code",
   "execution_count": 19,
   "id": "b7cbddd5",
   "metadata": {
    "execution": {
     "iopub.execute_input": "2022-08-10T09:01:47.113701Z",
     "iopub.status.busy": "2022-08-10T09:01:47.112300Z",
     "iopub.status.idle": "2022-08-10T09:03:01.566587Z",
     "shell.execute_reply": "2022-08-10T09:03:01.565351Z"
    },
    "papermill": {
     "duration": 74.481337,
     "end_time": "2022-08-10T09:03:01.581382",
     "exception": false,
     "start_time": "2022-08-10T09:01:47.100045",
     "status": "completed"
    },
    "tags": []
   },
   "outputs": [
    {
     "data": {
      "text/plain": [
       "array([3, 3, 3, ..., 2, 3, 3])"
      ]
     },
     "execution_count": 19,
     "metadata": {},
     "output_type": "execute_result"
    }
   ],
   "source": [
    "argmax(model.predict(val_generator),1)"
   ]
  },
  {
   "cell_type": "code",
   "execution_count": null,
   "id": "75dda097",
   "metadata": {
    "execution": {
     "iopub.execute_input": "2022-08-10T08:28:21.379671Z",
     "iopub.status.busy": "2022-08-10T08:28:21.379264Z",
     "iopub.status.idle": "2022-08-10T08:28:21.386572Z",
     "shell.execute_reply": "2022-08-10T08:28:21.385171Z",
     "shell.execute_reply.started": "2022-08-10T08:28:21.379627Z"
    },
    "papermill": {
     "duration": 0.012134,
     "end_time": "2022-08-10T09:03:01.606286",
     "exception": false,
     "start_time": "2022-08-10T09:03:01.594152",
     "status": "completed"
    },
    "tags": []
   },
   "outputs": [],
   "source": []
  },
  {
   "cell_type": "code",
   "execution_count": null,
   "id": "cef71fb8",
   "metadata": {
    "papermill": {
     "duration": 0.01216,
     "end_time": "2022-08-10T09:03:01.630524",
     "exception": false,
     "start_time": "2022-08-10T09:03:01.618364",
     "status": "completed"
    },
    "tags": []
   },
   "outputs": [],
   "source": []
  }
 ],
 "metadata": {
  "kernelspec": {
   "display_name": "Python 3",
   "language": "python",
   "name": "python3"
  },
  "language_info": {
   "codemirror_mode": {
    "name": "ipython",
    "version": 3
   },
   "file_extension": ".py",
   "mimetype": "text/x-python",
   "name": "python",
   "nbconvert_exporter": "python",
   "pygments_lexer": "ipython3",
   "version": "3.7.12"
  },
  "papermill": {
   "default_parameters": {},
   "duration": 2060.222336,
   "end_time": "2022-08-10T09:03:04.930045",
   "environment_variables": {},
   "exception": null,
   "input_path": "__notebook__.ipynb",
   "output_path": "__notebook__.ipynb",
   "parameters": {},
   "start_time": "2022-08-10T08:28:44.707709",
   "version": "2.3.4"
  }
 },
 "nbformat": 4,
 "nbformat_minor": 5
}
